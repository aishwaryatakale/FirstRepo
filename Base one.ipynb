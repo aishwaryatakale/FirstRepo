{
 "cells": [
  {
   "cell_type": "code",
   "execution_count": 1,
   "metadata": {},
   "outputs": [
    {
     "name": "stdout",
     "output_type": "stream",
     "text": [
      "Some basic sort of stuff\n"
     ]
    }
   ],
   "source": [
    "print(\"Some basic sort of stuff\")"
   ]
  },
  {
   "cell_type": "markdown",
   "metadata": {},
   "source": [
    "This was the first line of code"
   ]
  },
  {
   "cell_type": "code",
   "execution_count": 1,
   "metadata": {},
   "outputs": [
    {
     "data": {
      "text/plain": [
       "'hello one'"
      ]
     },
     "execution_count": 1,
     "metadata": {},
     "output_type": "execute_result"
    }
   ],
   "source": [
    "\"hello one\""
   ]
  },
  {
   "cell_type": "code",
   "execution_count": 2,
   "metadata": {},
   "outputs": [
    {
     "data": {
      "text/plain": [
       "'hello two'"
      ]
     },
     "execution_count": 2,
     "metadata": {},
     "output_type": "execute_result"
    }
   ],
   "source": [
    "\"hello one\"\n",
    "\"hello two\""
   ]
  },
  {
   "cell_type": "code",
   "execution_count": 4,
   "metadata": {},
   "outputs": [
    {
     "name": "stdout",
     "output_type": "stream",
     "text": [
      "hello one hello two\n"
     ]
    }
   ],
   "source": [
    "print(\"hello one hello two\")"
   ]
  },
  {
   "cell_type": "code",
   "execution_count": 5,
   "metadata": {},
   "outputs": [],
   "source": [
    "mystr=\"Hello world\""
   ]
  },
  {
   "cell_type": "code",
   "execution_count": 6,
   "metadata": {},
   "outputs": [
    {
     "data": {
      "text/plain": [
       "'Hello world'"
      ]
     },
     "execution_count": 6,
     "metadata": {},
     "output_type": "execute_result"
    }
   ],
   "source": [
    "mystr"
   ]
  },
  {
   "cell_type": "code",
   "execution_count": 8,
   "metadata": {},
   "outputs": [
    {
     "data": {
      "text/plain": [
       "'w'"
      ]
     },
     "execution_count": 8,
     "metadata": {},
     "output_type": "execute_result"
    }
   ],
   "source": [
    "'Hello world'[6]"
   ]
  },
  {
   "cell_type": "code",
   "execution_count": 23,
   "metadata": {},
   "outputs": [
    {
     "data": {
      "text/plain": [
       "'Hl'"
      ]
     },
     "execution_count": 23,
     "metadata": {},
     "output_type": "execute_result"
    }
   ],
   "source": [
    "'Hello'[0:4:3]"
   ]
  },
  {
   "cell_type": "code",
   "execution_count": 10,
   "metadata": {},
   "outputs": [],
   "source": [
    "strone=\"Aishwarya\""
   ]
  },
  {
   "cell_type": "code",
   "execution_count": 11,
   "metadata": {},
   "outputs": [],
   "source": [
    "strt=strone[1:]"
   ]
  },
  {
   "cell_type": "code",
   "execution_count": 13,
   "metadata": {},
   "outputs": [
    {
     "data": {
      "text/plain": [
       "'Pishwarya'"
      ]
     },
     "execution_count": 13,
     "metadata": {},
     "output_type": "execute_result"
    }
   ],
   "source": [
    "'P' + strt\n"
   ]
  },
  {
   "cell_type": "code",
   "execution_count": 22,
   "metadata": {},
   "outputs": [],
   "source": [
    "strt = strt + \"ok\""
   ]
  },
  {
   "cell_type": "code",
   "execution_count": 23,
   "metadata": {},
   "outputs": [
    {
     "data": {
      "text/plain": [
       "'ishwaryaokokokokok'"
      ]
     },
     "execution_count": 23,
     "metadata": {},
     "output_type": "execute_result"
    }
   ],
   "source": [
    "strt"
   ]
  },
  {
   "cell_type": "code",
   "execution_count": 25,
   "metadata": {},
   "outputs": [
    {
     "name": "stdout",
     "output_type": "stream",
     "text": [
      "This is a String INSERTED DONE FULLY\n"
     ]
    }
   ],
   "source": [
    "print('This is a String {} {} {}'.format('INSERTED','DONE','FULLY'))"
   ]
  },
  {
   "cell_type": "code",
   "execution_count": 26,
   "metadata": {},
   "outputs": [
    {
     "data": {
      "text/plain": [
       "'T-h-i-s- -i-s- -A-i-s-h'"
      ]
     },
     "execution_count": 26,
     "metadata": {},
     "output_type": "execute_result"
    }
   ],
   "source": [
    "'-'.join('This is Aish')"
   ]
  },
  {
   "cell_type": "code",
   "execution_count": 29,
   "metadata": {},
   "outputs": [
    {
     "data": {
      "text/plain": [
       "'This-is-Aish'"
      ]
     },
     "execution_count": 29,
     "metadata": {},
     "output_type": "execute_result"
    }
   ],
   "source": [
    "stro=\"This is Aish\"\n",
    "stro=stro.split()\n",
    "'-'.join(stro)"
   ]
  },
  {
   "cell_type": "code",
   "execution_count": 33,
   "metadata": {},
   "outputs": [
    {
     "name": "stdout",
     "output_type": "stream",
     "text": [
      "this is your value 1.25360\n"
     ]
    }
   ],
   "source": [
    "print(\"this is your value {r:1.5f}\".format(r=1.2536))"
   ]
  },
  {
   "cell_type": "code",
   "execution_count": 35,
   "metadata": {},
   "outputs": [
    {
     "name": "stdout",
     "output_type": "stream",
     "text": [
      "Hello his name is jose\n"
     ]
    }
   ],
   "source": [
    "name=\"jose\"\n",
    "print(f\"Hello his name is {name}\")"
   ]
  },
  {
   "cell_type": "code",
   "execution_count": 40,
   "metadata": {},
   "outputs": [
    {
     "name": "stdout",
     "output_type": "stream",
     "text": [
      "hello Aishwarya\n"
     ]
    }
   ],
   "source": [
    "value=\"Aishwarya\"\n",
    "print(f\"hello {value}\")"
   ]
  },
  {
   "cell_type": "code",
   "execution_count": 7,
   "metadata": {},
   "outputs": [
    {
     "name": "stdout",
     "output_type": "stream",
     "text": [
      "0\n"
     ]
    }
   ],
   "source": [
    "\n",
    "str1=\"abcdcdcfg\"\n",
    "sub=\"cdc\"\n",
    "print(str1.count(sub))"
   ]
  },
  {
   "cell_type": "code",
   "execution_count": 11,
   "metadata": {},
   "outputs": [
    {
     "name": "stdout",
     "output_type": "stream",
     "text": [
      "[0, 1.0, 0.125, 0.015625, 0.001953125, 0.000244140625, 3.0517578125e-05, 3.814697265625e-06, 4.76837158203125e-07, 5.960464477539063e-08, 7.450580596923828e-09, 9.313225746154785e-10, 1.1641532182693481e-10, 1.4551915228366852e-11, 1.8189894035458565e-12, 2.2737367544323206e-13, 2.842170943040401e-14, 3.552713678800501e-15, 4.440892098500626e-16, 5.551115123125783e-17, 6.938893903907228e-18, 8.673617379884035e-19, 1.0842021724855044e-19, 1.3552527156068805e-20, 1.6940658945086007e-21, 2.117582368135751e-22, 2.6469779601696886e-23, 3.308722450212111e-24, 4.1359030627651384e-25, 5.169878828456423e-26, 6.462348535570529e-27, 8.077935669463161e-28, 1.0097419586828951e-28, 1.262177448353619e-29, 1.5777218104420236e-30, 1.9721522630525295e-31, 2.465190328815662e-32, 3.0814879110195774e-33, 3.851859888774472e-34, 4.81482486096809e-35, 6.018531076210112e-36, 7.52316384526264e-37, 9.4039548065783e-38, 1.1754943508222875e-38, 1.4693679385278594e-39, 1.8367099231598242e-40, 2.2958874039497803e-41, 2.8698592549372254e-42, 3.587324068671532e-43, 4.484155085839415e-44, 5.605193857299268e-45, 7.006492321624085e-46, 8.758115402030107e-47, 1.0947644252537633e-47, 1.3684555315672042e-48, 1.7105694144590052e-49, 2.1382117680737565e-50, 2.6727647100921956e-51, 3.3409558876152446e-52, 4.176194859519056e-53, 5.22024357439882e-54, 6.525304467998525e-55, 8.156630584998156e-56, 1.0195788231247695e-56, 1.2744735289059618e-57, 1.5930919111324523e-58, 1.9913648889155653e-59, 2.4892061111444567e-60, 3.111507638930571e-61, 3.8893845486632136e-62, 4.861730685829017e-63, 6.077163357286271e-64, 7.596454196607839e-65, 9.495567745759799e-66, 1.1869459682199748e-66, 1.4836824602749686e-67, 1.8546030753437107e-68, 2.3182538441796384e-69, 2.897817305224548e-70, 3.622271631530685e-71, 4.527839539413356e-72, 5.659799424266695e-73, 7.074749280333369e-74, 8.843436600416711e-75, 1.105429575052089e-75, 1.3817869688151111e-76, 1.727233711018889e-77, 2.1590421387736112e-78, 2.698802673467014e-79, 3.3735033418337674e-80, 4.2168791772922093e-81, 5.271098971615262e-82, 6.588873714519077e-83, 8.236092143148846e-84, 1.0295115178936058e-84, 1.2868893973670072e-85, 1.608611746708759e-86, 2.010764683385949e-87, 2.513455854232436e-88, 3.141819817790545e-89, 3.9272747722381812e-90, 4.909093465297727e-91, 6.136366831622158e-92, 7.670458539527698e-93, 9.588073174409622e-94, 1.1985091468012028e-94, 1.4981364335015035e-95, 1.8726705418768793e-96, 2.3408381773460992e-97, 2.926047721682624e-98, 3.65755965210328e-99, 4.5719495651291e-100, 5.714936956411375e-101, 7.143671195514219e-102, 8.929588994392773e-103, 1.1161986242990967e-103, 1.3952482803738708e-104, 1.7440603504673385e-105, 2.1800754380841732e-106, 2.7250942976052165e-107, 3.4063678720065206e-108, 4.257959840008151e-109, 5.3224498000101884e-110, 6.653062250012736e-111, 8.31632781251592e-112, 1.03954097656449e-112, 1.2994262207056124e-113, 1.6242827758820155e-114, 2.0303534698525194e-115, 2.5379418373156492e-116, 3.1724272966445615e-117, 3.965534120805702e-118, 4.9569176510071274e-119, 6.196147063758909e-120, 7.745183829698637e-121, 9.681479787123296e-122, 1.210184973390412e-122, 1.512731216738015e-123, 1.8909140209225187e-124, 2.3636425261531484e-125, 2.9545531576914354e-126, 3.6931914471142943e-127, 4.616489308892868e-128, 5.770611636116085e-129, 7.213264545145106e-130, 9.016580681431383e-131, 1.1270725851789228e-131, 1.4088407314736535e-132, 1.761050914342067e-133, 2.2013136429275836e-134, 2.7516420536594796e-135, 3.4395525670743494e-136, 4.299440708842937e-137, 5.374300886053671e-138, 6.717876107567089e-139, 8.397345134458861e-140, 1.0496681418073576e-140, 1.312085177259197e-141, 1.6401064715739963e-142, 2.0501330894674953e-143, 2.5626663618343692e-144, 3.2033329522929615e-145, 4.004166190366202e-146, 5.0052077379577523e-147, 6.256509672447191e-148, 7.820637090558988e-149, 9.775796363198735e-150, 1.221974545399842e-150, 1.5274681817498023e-151, 1.909335227187253e-152, 2.3866690339840662e-153, 2.983336292480083e-154, 3.7291703656001034e-155, 4.661462957000129e-156, 5.826828696250162e-157, 7.283535870312702e-158, 9.104419837890877e-159, 1.1380524797363597e-159, 1.4225655996704496e-160, 1.778206999588062e-161, 2.2227587494850775e-162, 2.778448436856347e-163, 3.4730605460704336e-164, 4.341325682588042e-165, 5.426657103235053e-166, 6.783321379043816e-167, 8.47915172380477e-168, 1.0598939654755962e-168, 1.3248674568444952e-169, 1.656084321055619e-170, 2.070105401319524e-171, 2.587631751649405e-172, 3.234539689561756e-173, 4.043174611952195e-174, 5.053968264940244e-175, 6.317460331175305e-176, 7.896825413969131e-177, 9.871031767461413e-178, 1.2338789709326767e-178, 1.542348713665846e-179, 1.9279358920823073e-180, 2.409919865102884e-181, 3.012399831378605e-182, 3.7654997892232564e-183, 4.706874736529071e-184, 5.883593420661338e-185, 7.354491775826673e-186, 9.193114719783341e-187, 1.1491393399729176e-187, 1.436424174966147e-188, 1.7955302187076838e-189, 2.2444127733846047e-190, 2.805515966730756e-191, 3.506894958413445e-192, 4.383618698016806e-193, 5.479523372521008e-194, 6.84940421565126e-195, 8.561755269564074e-196, 1.0702194086955093e-196, 1.3377742608693866e-197, 1.6722178260867333e-198, 2.0902722826084166e-199, 2.612840353260521e-200, 3.266050441575651e-201, 4.082563051969564e-202, 5.103203814961955e-203, 6.379004768702443e-204, 7.973755960878054e-205, 9.967194951097568e-206, 1.245899368887196e-206, 1.557374211108995e-207, 1.9467177638862437e-208, 2.4333972048578046e-209, 3.041746506072256e-210, 3.80218313259032e-211, 4.7527289157379e-212, 5.940911144672375e-213, 7.426138930840468e-214, 9.282673663550585e-215, 1.1603342079438231e-215, 1.450417759929779e-216, 1.8130221999122236e-217, 2.2662777498902796e-218, 2.8328471873628494e-219, 3.541058984203562e-220, 4.4263237302544523e-221, 5.5329046628180653e-222, 6.916130828522582e-223, 8.645163535653227e-224, 1.0806454419566534e-224, 1.3508068024458167e-225, 1.688508503057271e-226, 2.1106356288215886e-227, 2.638294536026986e-228, 3.2978681700337323e-229, 4.1223352125421653e-230, 5.152919015677707e-231, 6.441148769597133e-232, 8.051435961996417e-233, 1.0064294952495521e-233, 1.2580368690619401e-234, 1.5725460863274251e-235, 1.9656826079092814e-236, 2.457103259886602e-237, 3.0713790748582522e-238, 3.8392238435728152e-239, 4.799029804466019e-240, 5.998787255582524e-241, 7.498484069478155e-242, 9.373105086847693e-243, 1.1716381358559617e-243, 1.4645476698199521e-244, 1.8306845872749401e-245, 2.2883557340936752e-246, 2.860444667617094e-247, 3.5755558345213674e-248, 4.4694447931517093e-249, 5.586805991439637e-250, 6.983507489299546e-251, 8.729384361624432e-252, 1.091173045203054e-252, 1.3639663065038175e-253, 1.704957883129772e-254, 2.131197353912215e-255, 2.6639966923902686e-256, 3.329995865487836e-257, 4.162494831859795e-258, 5.2031185398247434e-259, 6.503898174780929e-260, 8.129872718476162e-261, 1.0162340898095202e-261, 1.2702926122619002e-262, 1.5878657653273753e-263, 1.9848322066592191e-264, 2.481040258324024e-265, 3.10130032290503e-266, 3.8766254036312874e-267, 4.845781754539109e-268, 6.057227193173887e-269, 7.571533991467358e-270, 9.464417489334198e-271, 1.1830521861667747e-271, 1.4788152327084684e-272, 1.8485190408855855e-273, 2.310648801106982e-274, 2.8883110013837273e-275, 3.610388751729659e-276, 4.512985939662074e-277, 5.641232424577593e-278, 7.051540530721991e-279, 8.814425663402488e-280, 1.101803207925311e-280, 1.3772540099066388e-281, 1.7215675123832985e-282, 2.151959390479123e-283, 2.689949238098904e-284, 3.36243654762363e-285, 4.2030456845295373e-286, 5.253807105661922e-287, 6.567258882077402e-288, 8.209073602596753e-289, 1.0261342003245941e-289, 1.2826677504057426e-290, 1.6033346880071782e-291, 2.004168360008973e-292, 2.505210450011216e-293, 3.13151306251402e-294, 3.914391328142525e-295, 4.892989160178156e-296, 6.116236450222695e-297, 7.645295562778369e-298, 9.556619453472961e-299, 1.1945774316841202e-299, 1.4932217896051502e-300, 1.8665272370064378e-301, 2.3331590462580472e-302, 2.916448807822559e-303, 3.645561009778199e-304, 4.5569512622227484e-305, 5.696189077778436e-306, 7.120236347223045e-307, 8.900295434028806e-308, 1.1125369292536007e-308, 1.390671161567e-309, 1.73833895195875e-310, 2.1729236899484e-311, 2.716154612436e-312, 3.39519326554e-313, 4.243991582e-314, 5.304989477e-315, 6.63123685e-316, 8.289046e-317, 1.036131e-317, 1.295163e-318, 1.61895e-319, 2.0237e-320, 2.53e-321, 3.16e-322, 4e-323, 5e-324]\n"
     ]
    }
   ],
   "source": [
    "number=8\n",
    "list1=[]\n",
    "while number!=0:\n",
    "    r=number%8\n",
    "    list1.append(r)\n",
    "    number=number/8\n",
    "print(list1)  "
   ]
  },
  {
   "cell_type": "code",
   "execution_count": 18,
   "metadata": {},
   "outputs": [
    {
     "name": "stdout",
     "output_type": "stream",
     "text": [
      "1234\n"
     ]
    }
   ],
   "source": [
    "print(*range(1,5),sep=\"\")"
   ]
  },
  {
   "cell_type": "code",
   "execution_count": 20,
   "metadata": {},
   "outputs": [
    {
     "name": "stdout",
     "output_type": "stream",
     "text": [
      "2\n",
      "012\n",
      "113\n",
      "2\n",
      "012\n",
      "113\n"
     ]
    },
    {
     "ename": "NameError",
     "evalue": "name 'cmp' is not defined",
     "output_type": "error",
     "traceback": [
      "\u001b[1;31m---------------------------------------------------------------------------\u001b[0m",
      "\u001b[1;31mNameError\u001b[0m                                 Traceback (most recent call last)",
      "\u001b[1;32m<ipython-input-20-e5b89fd39970>\u001b[0m in \u001b[0;36m<module>\u001b[1;34m()\u001b[0m\n\u001b[0;32m      7\u001b[0m \u001b[1;32mfor\u001b[0m \u001b[0mj\u001b[0m \u001b[1;32min\u001b[0m \u001b[0mrange\u001b[0m\u001b[1;33m(\u001b[0m\u001b[0mm\u001b[0m\u001b[1;33m)\u001b[0m\u001b[1;33m:\u001b[0m\u001b[1;33m\u001b[0m\u001b[0m\n\u001b[0;32m      8\u001b[0m     \u001b[0mlist2\u001b[0m\u001b[1;33m.\u001b[0m\u001b[0mappend\u001b[0m\u001b[1;33m(\u001b[0m\u001b[0minput\u001b[0m\u001b[1;33m(\u001b[0m\u001b[0mj\u001b[0m\u001b[1;33m)\u001b[0m\u001b[1;33m)\u001b[0m\u001b[1;33m\u001b[0m\u001b[0m\n\u001b[1;32m----> 9\u001b[1;33m \u001b[0mprint\u001b[0m\u001b[1;33m(\u001b[0m\u001b[0mcmp\u001b[0m\u001b[1;33m(\u001b[0m\u001b[0mlist1\u001b[0m\u001b[1;33m,\u001b[0m \u001b[0mlist2\u001b[0m\u001b[1;33m)\u001b[0m\u001b[1;33m)\u001b[0m\u001b[1;33m\u001b[0m\u001b[0m\n\u001b[0m",
      "\u001b[1;31mNameError\u001b[0m: name 'cmp' is not defined"
     ]
    }
   ],
   "source": [
    "n=int(input())\n",
    "list1=[]\n",
    "for i in range(n):\n",
    "    list1.append(input(i))\n",
    "m=int(input())\n",
    "list2=[]\n",
    "for j in range(m):\n",
    "    list2.append(input(j))\n",
    "print(cmp(list1, list2))"
   ]
  },
  {
   "cell_type": "code",
   "execution_count": 21,
   "metadata": {},
   "outputs": [
    {
     "ename": "SyntaxError",
     "evalue": "invalid syntax (<ipython-input-21-dda0498c0dd9>, line 2)",
     "output_type": "error",
     "traceback": [
      "\u001b[1;36m  File \u001b[1;32m\"<ipython-input-21-dda0498c0dd9>\"\u001b[1;36m, line \u001b[1;32m2\u001b[0m\n\u001b[1;33m    print cmp(list1, list2)\u001b[0m\n\u001b[1;37m            ^\u001b[0m\n\u001b[1;31mSyntaxError\u001b[0m\u001b[1;31m:\u001b[0m invalid syntax\n"
     ]
    }
   ],
   "source": [
    "list1, list2 = [123, 'xyz'], [456, 'abc']\n",
    "print cmp(list1, list2)\n",
    "print cmp(list2, list1)\n",
    "list3 = list2 + [786];\n",
    "print cmp(list2, list3)\n"
   ]
  },
  {
   "cell_type": "code",
   "execution_count": 1,
   "metadata": {},
   "outputs": [],
   "source": [
    "list=[23,'d','Aishwarya Here',65.89]"
   ]
  },
  {
   "cell_type": "code",
   "execution_count": 2,
   "metadata": {},
   "outputs": [
    {
     "data": {
      "text/plain": [
       "[23, 'd', 'Aishwarya Here', 65.89]"
      ]
     },
     "execution_count": 2,
     "metadata": {},
     "output_type": "execute_result"
    }
   ],
   "source": [
    "list"
   ]
  },
  {
   "cell_type": "code",
   "execution_count": 3,
   "metadata": {},
   "outputs": [
    {
     "data": {
      "text/plain": [
       "[23, 'd', 'Aishwarya Here', 65.89, 23, 'd', 'Aishwarya Here', 65.89]"
      ]
     },
     "execution_count": 3,
     "metadata": {},
     "output_type": "execute_result"
    }
   ],
   "source": [
    "list*2"
   ]
  },
  {
   "cell_type": "code",
   "execution_count": 4,
   "metadata": {},
   "outputs": [
    {
     "data": {
      "text/plain": [
       "[23, 'd', 'Aishwarya Here', 65.89]"
      ]
     },
     "execution_count": 4,
     "metadata": {},
     "output_type": "execute_result"
    }
   ],
   "source": [
    "list\n"
   ]
  },
  {
   "cell_type": "code",
   "execution_count": 5,
   "metadata": {},
   "outputs": [],
   "source": [
    "list=list*2"
   ]
  },
  {
   "cell_type": "code",
   "execution_count": 6,
   "metadata": {},
   "outputs": [
    {
     "data": {
      "text/plain": [
       "[23, 'd', 'Aishwarya Here', 65.89, 23, 'd', 'Aishwarya Here', 65.89]"
      ]
     },
     "execution_count": 6,
     "metadata": {},
     "output_type": "execute_result"
    }
   ],
   "source": [
    "list\n"
   ]
  },
  {
   "cell_type": "code",
   "execution_count": 7,
   "metadata": {},
   "outputs": [],
   "source": [
    "list=list+[\"From pune\"]"
   ]
  },
  {
   "cell_type": "code",
   "execution_count": 8,
   "metadata": {},
   "outputs": [
    {
     "data": {
      "text/plain": [
       "[23,\n",
       " 'd',\n",
       " 'Aishwarya Here',\n",
       " 65.89,\n",
       " 23,\n",
       " 'd',\n",
       " 'Aishwarya Here',\n",
       " 65.89,\n",
       " 'From pune']"
      ]
     },
     "execution_count": 8,
     "metadata": {},
     "output_type": "execute_result"
    }
   ],
   "source": [
    "list\n"
   ]
  },
  {
   "cell_type": "code",
   "execution_count": 11,
   "metadata": {},
   "outputs": [],
   "source": [
    "list[8]='A'"
   ]
  },
  {
   "cell_type": "code",
   "execution_count": 12,
   "metadata": {},
   "outputs": [
    {
     "data": {
      "text/plain": [
       "[23, 'd', 'Aishwarya Here', 65.89, 23, 'd', 'Aishwarya Here', 65.89, 'A']"
      ]
     },
     "execution_count": 12,
     "metadata": {},
     "output_type": "execute_result"
    }
   ],
   "source": [
    "list"
   ]
  },
  {
   "cell_type": "code",
   "execution_count": 14,
   "metadata": {},
   "outputs": [
    {
     "data": {
      "text/plain": [
       "[23, 'd', 'Aishwarya Here', 65.89, 23, 'd', 'Aishwarya Here', 65.89, 'A', 'B']"
      ]
     },
     "execution_count": 14,
     "metadata": {},
     "output_type": "execute_result"
    }
   ],
   "source": [
    "list.append('B')\n",
    "list"
   ]
  },
  {
   "cell_type": "code",
   "execution_count": 15,
   "metadata": {},
   "outputs": [
    {
     "data": {
      "text/plain": [
       "[23, 'd', 'Aishwarya Here', 65.89, 23, 'd', 'Aishwarya Here', 65.89, 'A', 'I']"
      ]
     },
     "execution_count": 15,
     "metadata": {},
     "output_type": "execute_result"
    }
   ],
   "source": [
    "list[9]=\"I\"\n",
    "list"
   ]
  },
  {
   "cell_type": "code",
   "execution_count": 16,
   "metadata": {},
   "outputs": [
    {
     "data": {
      "text/plain": [
       "[[3, 4, 5], [6, 7, 8]]"
      ]
     },
     "execution_count": 16,
     "metadata": {},
     "output_type": "execute_result"
    }
   ],
   "source": [
    "list_one=[3,4,5]\n",
    "list_two=[6,7,8]\n",
    "matrix=[list_one,list_two]\n",
    "matrix"
   ]
  },
  {
   "cell_type": "code",
   "execution_count": 17,
   "metadata": {},
   "outputs": [
    {
     "data": {
      "text/plain": [
       "[3, 4, 5]"
      ]
     },
     "execution_count": 17,
     "metadata": {},
     "output_type": "execute_result"
    }
   ],
   "source": [
    "matrix[0]"
   ]
  },
  {
   "cell_type": "code",
   "execution_count": 18,
   "metadata": {},
   "outputs": [
    {
     "data": {
      "text/plain": [
       "8"
      ]
     },
     "execution_count": 18,
     "metadata": {},
     "output_type": "execute_result"
    }
   ],
   "source": [
    "matrix[1][2]"
   ]
  },
  {
   "cell_type": "code",
   "execution_count": 19,
   "metadata": {},
   "outputs": [
    {
     "name": "stdout",
     "output_type": "stream",
     "text": [
      "3\n",
      "4\n",
      "5\n"
     ]
    }
   ],
   "source": [
    "for i in list_one:\n",
    "    print(i)"
   ]
  },
  {
   "cell_type": "code",
   "execution_count": 25,
   "metadata": {},
   "outputs": [
    {
     "data": {
      "text/plain": [
       "[[3, 4, 5], [3, 4, 5], [3, 4, 5]]"
      ]
     },
     "execution_count": 25,
     "metadata": {},
     "output_type": "execute_result"
    }
   ],
   "source": [
    "l1=[matrix[0] for i in matrix[0]]\n",
    "l1"
   ]
  },
  {
   "cell_type": "markdown",
   "metadata": {},
   "source": [
    "l1"
   ]
  },
  {
   "cell_type": "code",
   "execution_count": 26,
   "metadata": {},
   "outputs": [
    {
     "data": {
      "text/plain": [
       "[[3, 4, 5], [3, 4, 5], [3, 4, 5]]"
      ]
     },
     "execution_count": 26,
     "metadata": {},
     "output_type": "execute_result"
    }
   ],
   "source": [
    "l1"
   ]
  },
  {
   "cell_type": "code",
   "execution_count": 27,
   "metadata": {},
   "outputs": [
    {
     "data": {
      "text/plain": [
       "[0, 1, 2, 3, 4, 5, 6, 7, 8, 9]"
      ]
     },
     "execution_count": 27,
     "metadata": {},
     "output_type": "execute_result"
    }
   ],
   "source": [
    "li=[i for i in range(10)]\n",
    "li"
   ]
  },
  {
   "cell_type": "code",
   "execution_count": 28,
   "metadata": {},
   "outputs": [
    {
     "ename": "IndexError",
     "evalue": "list assignment index out of range",
     "output_type": "error",
     "traceback": [
      "\u001b[1;31m---------------------------------------------------------------------------\u001b[0m",
      "\u001b[1;31mIndexError\u001b[0m                                Traceback (most recent call last)",
      "\u001b[1;32m<ipython-input-28-0b0ae5ffa3e3>\u001b[0m in \u001b[0;36m<module>\u001b[1;34m()\u001b[0m\n\u001b[0;32m      1\u001b[0m \u001b[0mli\u001b[0m\u001b[1;33m=\u001b[0m\u001b[1;33m[\u001b[0m\u001b[1;33m]\u001b[0m\u001b[1;33m\u001b[0m\u001b[0m\n\u001b[1;32m----> 2\u001b[1;33m \u001b[0mli\u001b[0m\u001b[1;33m[\u001b[0m\u001b[1;36m0\u001b[0m\u001b[1;33m]\u001b[0m\u001b[1;33m=\u001b[0m\u001b[1;36m5\u001b[0m\u001b[1;33m\u001b[0m\u001b[0m\n\u001b[0m\u001b[0;32m      3\u001b[0m \u001b[0mli\u001b[0m\u001b[1;33m\u001b[0m\u001b[0m\n",
      "\u001b[1;31mIndexError\u001b[0m: list assignment index out of range"
     ]
    }
   ],
   "source": [
    "li=[]\n",
    "li[0]=5\n",
    "li"
   ]
  },
  {
   "cell_type": "code",
   "execution_count": null,
   "metadata": {},
   "outputs": [],
   "source": []
  }
 ],
 "metadata": {
  "kernelspec": {
   "display_name": "Python 3",
   "language": "python",
   "name": "python3"
  },
  "language_info": {
   "codemirror_mode": {
    "name": "ipython",
    "version": 3
   },
   "file_extension": ".py",
   "mimetype": "text/x-python",
   "name": "python",
   "nbconvert_exporter": "python",
   "pygments_lexer": "ipython3",
   "version": "3.6.5"
  }
 },
 "nbformat": 4,
 "nbformat_minor": 2
}
